{
  "nbformat": 4,
  "nbformat_minor": 0,
  "metadata": {
    "colab": {
      "provenance": []
    },
    "kernelspec": {
      "name": "python3",
      "display_name": "Python 3"
    },
    "language_info": {
      "name": "python"
    }
  },
  "cells": [
    {
      "cell_type": "markdown",
      "source": [
        "hello world"
      ],
      "metadata": {
        "id": "npJxnu3DSxI0"
      }
    },
    {
      "cell_type": "code",
      "source": [
        "print(\"hello world\")"
      ],
      "metadata": {
        "colab": {
          "base_uri": "https://localhost:8080/"
        },
        "id": "289prB4pS3Mg",
        "outputId": "a3eddea8-bbcd-414e-d02f-ed4709ac9c42"
      },
      "execution_count": null,
      "outputs": [
        {
          "output_type": "stream",
          "name": "stdout",
          "text": [
            "hello world\n"
          ]
        }
      ]
    },
    {
      "cell_type": "code",
      "source": [
        "print(\"hello\")\n",
        "print(9*\"\\n\")\n",
        "print(\"world\")"
      ],
      "metadata": {
        "colab": {
          "base_uri": "https://localhost:8080/"
        },
        "id": "7AlxEc91T17C",
        "outputId": "f7d8cc6f-3f6a-456f-a09f-45dd7e14a601"
      },
      "execution_count": null,
      "outputs": [
        {
          "output_type": "stream",
          "name": "stdout",
          "text": [
            "hello\n",
            "\n",
            "\n",
            "\n",
            "\n",
            "\n",
            "\n",
            "\n",
            "\n",
            "\n",
            "\n",
            "world\n"
          ]
        }
      ]
    },
    {
      "cell_type": "markdown",
      "source": [
        "The code is printing my months of the year with line break\n"
      ],
      "metadata": {
        "id": "ag30l8thdbhW"
      }
    },
    {
      "cell_type": "code",
      "source": [
        "print(\"Jan\\nfeb\\nmarch\\napril\\nmay\\njune\\njuly\\naug\\nsep\\noct\\nnov\\ndec\")"
      ],
      "metadata": {
        "colab": {
          "base_uri": "https://localhost:8080/"
        },
        "id": "I4aqLm9cdndZ",
        "outputId": "9b6e9072-19b0-4f86-d878-fad7c43631b9"
      },
      "execution_count": null,
      "outputs": [
        {
          "output_type": "stream",
          "name": "stdout",
          "text": [
            "Jan\n",
            "feb\n",
            "march\n",
            "april\n",
            "may\n",
            "june\n",
            "july\n",
            "aug\n",
            "sep\n",
            "oct\n",
            "nov\n",
            "dec\n"
          ]
        }
      ]
    },
    {
      "cell_type": "code",
      "source": [
        "print (\"I want \\\\n to be printed.\")\n",
        "print(\"I'm very *happy*\")\n"
      ],
      "metadata": {
        "colab": {
          "base_uri": "https://localhost:8080/"
        },
        "id": "PRWjCf5dU0-J",
        "outputId": "54693d5d-398f-468f-aa4f-98cd00fb8e58"
      },
      "execution_count": null,
      "outputs": [
        {
          "output_type": "stream",
          "name": "stdout",
          "text": [
            "I want \\n to be printed.\n",
            "I'm very *happy*\n"
          ]
        }
      ]
    },
    {
      "cell_type": "code",
      "source": [
        "print(\"My name is \\t Kaushik Ranjan\")    #\\t is equal to 4 spaces"
      ],
      "metadata": {
        "colab": {
          "base_uri": "https://localhost:8080/"
        },
        "id": "Ig3aj_bCjfug",
        "outputId": "125e47aa-fcb4-45ef-d719-d042de4e1820"
      },
      "execution_count": null,
      "outputs": [
        {
          "output_type": "stream",
          "name": "stdout",
          "text": [
            "My name is \t Kaushik Ranjan\n"
          ]
        }
      ]
    },
    {
      "cell_type": "code",
      "source": [
        "print(\"\"\"\n",
        "Routine:\n",
        "\\t-Eat\n",
        "\\t-Study\n",
        "\\t-Sleep\\n\\t-Repeat\n",
        "\"\"\")"
      ],
      "metadata": {
        "colab": {
          "base_uri": "https://localhost:8080/"
        },
        "id": "ABSDanD3kM40",
        "outputId": "4fdf7c08-9606-4279-eaff-65c747fd98f0"
      },
      "execution_count": null,
      "outputs": [
        {
          "output_type": "stream",
          "name": "stdout",
          "text": [
            "\n",
            "Routine:\n",
            "\t-Eat\n",
            "\t-Study\n",
            "\t-Sleep\n",
            "\t-Repeat\n",
            "\n"
          ]
        }
      ]
    },
    {
      "cell_type": "code",
      "source": [
        "print(\"\"\"\n",
        "\n",
        "Routine:\n",
        "\n",
        "\\t- Eat\n",
        "\\t- Study\n",
        "\\t- Sleep\\n\\t- Repeat\n",
        "\n",
        ".\n",
        ".\n",
        ".\n",
        "\"\"\")  # with three \"\"\" it will print as it is"
      ],
      "metadata": {
        "colab": {
          "base_uri": "https://localhost:8080/"
        },
        "id": "hccdIl2oVZB_",
        "outputId": "303e76a2-6c48-46b0-8821-a9677ca1e144"
      },
      "execution_count": null,
      "outputs": [
        {
          "output_type": "stream",
          "name": "stdout",
          "text": [
            "\n",
            "\n",
            "Routine:\n",
            "\n",
            "\t- Eat\n",
            "\t- Study\n",
            "\t- Sleep\n",
            "\t- Repeat\n",
            "\n",
            ".\n",
            ".\n",
            ".\n",
            "\n"
          ]
        }
      ]
    },
    {
      "cell_type": "code",
      "source": [
        "print(\"\"\"\n",
        "hello\n",
        ".\n",
        "world\"\"\")"
      ],
      "metadata": {
        "id": "7rYojIuMlzWe",
        "colab": {
          "base_uri": "https://localhost:8080/"
        },
        "outputId": "d50afee6-47ec-4682-f44f-bd49165a3516"
      },
      "execution_count": null,
      "outputs": [
        {
          "output_type": "stream",
          "name": "stdout",
          "text": [
            "\n",
            "hello\n",
            ".\n",
            "world\n"
          ]
        }
      ]
    },
    {
      "cell_type": "code",
      "source": [
        "print (\"Welcome to\", end ='a '  )\n",
        "print (\"Python\", end = '!')"
      ],
      "metadata": {
        "colab": {
          "base_uri": "https://localhost:8080/"
        },
        "id": "SsQBTS7qWcyp",
        "outputId": "420051da-ba2c-4369-adef-1cb3333f5427"
      },
      "execution_count": null,
      "outputs": [
        {
          "output_type": "stream",
          "name": "stdout",
          "text": [
            "Welcome toa Python!"
          ]
        }
      ]
    },
    {
      "cell_type": "code",
      "source": [
        "print(\" python \" ,end='@')\n",
        "print(\" class\")\n"
      ],
      "metadata": {
        "colab": {
          "base_uri": "https://localhost:8080/"
        },
        "id": "Rg3rcviBqtqR",
        "outputId": "84c3b8d2-f933-4737-b6ba-69f3f0f56b6d"
      },
      "execution_count": null,
      "outputs": [
        {
          "output_type": "stream",
          "name": "stdout",
          "text": [
            " python @ class\n"
          ]
        }
      ]
    },
    {
      "cell_type": "code",
      "source": [
        "print(\"_M\"*9)"
      ],
      "metadata": {
        "colab": {
          "base_uri": "https://localhost:8080/"
        },
        "id": "dwKM0veCXdaQ",
        "outputId": "25d6857d-20a6-4bf1-ba6b-ecb407018993"
      },
      "execution_count": null,
      "outputs": [
        {
          "output_type": "stream",
          "name": "stdout",
          "text": [
            "_M_M_M_M_M_M_M_M_M\n"
          ]
        }
      ]
    },
    {
      "cell_type": "code",
      "source": [
        "p=9\n",
        "print(\"_M\"*p)"
      ],
      "metadata": {
        "colab": {
          "base_uri": "https://localhost:8080/"
        },
        "id": "5Kd9z1Vyr1Kh",
        "outputId": "4903ce8a-ea43-4add-9d02-fd28826399f6"
      },
      "execution_count": null,
      "outputs": [
        {
          "output_type": "stream",
          "name": "stdout",
          "text": [
            "_M_M_M_M_M_M_M_M_M\n"
          ]
        }
      ]
    },
    {
      "cell_type": "code",
      "source": [
        "p=1\n",
        "print(\"name \\n\"*p)"
      ],
      "metadata": {
        "colab": {
          "base_uri": "https://localhost:8080/"
        },
        "id": "NlRL-DvdtIof",
        "outputId": "e9a2667b-331f-4e22-ad1f-54481c2cf0c2"
      },
      "execution_count": null,
      "outputs": [
        {
          "output_type": "stream",
          "name": "stdout",
          "text": [
            "name \n",
            "\n"
          ]
        }
      ]
    },
    {
      "cell_type": "code",
      "source": [
        "True"
      ],
      "metadata": {
        "colab": {
          "base_uri": "https://localhost:8080/"
        },
        "id": "NS3nfBvvvota",
        "outputId": "8915e428-765f-400d-a82c-61fb65c7211a"
      },
      "execution_count": null,
      "outputs": [
        {
          "output_type": "execute_result",
          "data": {
            "text/plain": [
              "True"
            ]
          },
          "metadata": {},
          "execution_count": 32
        }
      ]
    },
    {
      "cell_type": "code",
      "source": [
        "False"
      ],
      "metadata": {
        "colab": {
          "base_uri": "https://localhost:8080/"
        },
        "id": "XPNKxFKhvupB",
        "outputId": "f9a4d592-50f5-4ba2-921d-92169f23a38a"
      },
      "execution_count": null,
      "outputs": [
        {
          "output_type": "execute_result",
          "data": {
            "text/plain": [
              "False"
            ]
          },
          "metadata": {},
          "execution_count": 33
        }
      ]
    },
    {
      "cell_type": "code",
      "source": [
        "None_=90"
      ],
      "metadata": {
        "id": "9owVA511vxzE"
      },
      "execution_count": null,
      "outputs": []
    },
    {
      "cell_type": "code",
      "source": [
        "None_"
      ],
      "metadata": {
        "colab": {
          "base_uri": "https://localhost:8080/"
        },
        "id": "PjBOslwZwFrD",
        "outputId": "b738da96-a41f-46c1-e1d0-76ea173e3847"
      },
      "execution_count": null,
      "outputs": [
        {
          "output_type": "execute_result",
          "data": {
            "text/plain": [
              "90"
            ]
          },
          "metadata": {},
          "execution_count": 35
        }
      ]
    },
    {
      "cell_type": "code",
      "source": [
        "this_is_a_long_variable = 6+3.0\n",
        "#inline comment\n",
        "this_is_a_long_variable"
      ],
      "metadata": {
        "colab": {
          "base_uri": "https://localhost:8080/"
        },
        "id": "vs2IT4QdwItR",
        "outputId": "3ab5cead-5a48-45c0-d222-e81d3f7dee14"
      },
      "execution_count": null,
      "outputs": [
        {
          "output_type": "execute_result",
          "data": {
            "text/plain": [
              "9.0"
            ]
          },
          "metadata": {},
          "execution_count": 48
        }
      ]
    },
    {
      "cell_type": "code",
      "source": [
        "type(this_is_a_long_variable)"
      ],
      "metadata": {
        "colab": {
          "base_uri": "https://localhost:8080/"
        },
        "id": "yx0zicaOxC5H",
        "outputId": "6060a35d-1450-4f28-aa9d-d9e62984c349"
      },
      "execution_count": null,
      "outputs": [
        {
          "output_type": "execute_result",
          "data": {
            "text/plain": [
              "float"
            ]
          },
          "metadata": {},
          "execution_count": 49
        }
      ]
    },
    {
      "cell_type": "code",
      "source": [
        "this_is_a_long_variable"
      ],
      "metadata": {
        "colab": {
          "base_uri": "https://localhost:8080/"
        },
        "id": "TiUVyYRDyEkd",
        "outputId": "226f5257-6d8a-4bd6-841b-a4805dd39b99"
      },
      "execution_count": null,
      "outputs": [
        {
          "output_type": "execute_result",
          "data": {
            "text/plain": [
              "9.0"
            ]
          },
          "metadata": {},
          "execution_count": 50
        }
      ]
    },
    {
      "cell_type": "code",
      "source": [
        "9+        99"
      ],
      "metadata": {
        "colab": {
          "base_uri": "https://localhost:8080/"
        },
        "id": "Hy3KJgG6zJK9",
        "outputId": "e5741645-d356-4e53-a9e4-01db9bc54e50"
      },
      "execution_count": null,
      "outputs": [
        {
          "output_type": "execute_result",
          "data": {
            "text/plain": [
              "108"
            ]
          },
          "metadata": {},
          "execution_count": 51
        }
      ]
    },
    {
      "cell_type": "code",
      "source": [
        "+4"
      ],
      "metadata": {
        "colab": {
          "base_uri": "https://localhost:8080/"
        },
        "id": "XhQmuK4zzNzK",
        "outputId": "ab9632f3-5799-4f0b-9a73-1109139ce7d0"
      },
      "execution_count": null,
      "outputs": [
        {
          "output_type": "execute_result",
          "data": {
            "text/plain": [
              "4"
            ]
          },
          "metadata": {},
          "execution_count": 52
        }
      ]
    },
    {
      "cell_type": "code",
      "source": [
        "bn=89\n",
        "#if -> elif\n",
        "#while -> do while\n",
        "#for\n",
        "\n",
        "#nested loop"
      ],
      "metadata": {
        "id": "gpqxXb8wzY-e"
      },
      "execution_count": null,
      "outputs": []
    },
    {
      "cell_type": "code",
      "source": [
        "for i in range(9):\n",
        " print (i)"
      ],
      "metadata": {
        "colab": {
          "base_uri": "https://localhost:8080/"
        },
        "id": "KevQdOIFa8QU",
        "outputId": "066e1e6f-e817-47ee-ef14-45f813a9f538"
      },
      "execution_count": null,
      "outputs": [
        {
          "output_type": "stream",
          "name": "stdout",
          "text": [
            "0\n",
            "1\n",
            "2\n",
            "3\n",
            "4\n",
            "5\n",
            "6\n",
            "7\n",
            "8\n"
          ]
        }
      ]
    },
    {
      "cell_type": "code",
      "source": [
        "if bn < 100:\n",
        "\n",
        "  bn = bn * 55\n",
        "  print(bn)\n",
        "  print(\"bn less than 100\")\n",
        "\n",
        "else:\n",
        "\n",
        "  print('value is not true')"
      ],
      "metadata": {
        "colab": {
          "base_uri": "https://localhost:8080/"
        },
        "id": "15bsUGktcNEJ",
        "outputId": "48c6576d-d1ef-4a8a-ab52-08c4d7de2249"
      },
      "execution_count": null,
      "outputs": [
        {
          "output_type": "stream",
          "name": "stdout",
          "text": [
            "4895\n",
            "bn less than 100\n"
          ]
        }
      ]
    },
    {
      "cell_type": "code",
      "source": [
        "for i in range(7,99,2):\n",
        "  print(i)"
      ],
      "metadata": {
        "id": "zxUzPFC4jHO3",
        "colab": {
          "base_uri": "https://localhost:8080/"
        },
        "outputId": "b688e425-6ca3-4482-e5da-68afe1043a1d"
      },
      "execution_count": null,
      "outputs": [
        {
          "output_type": "stream",
          "name": "stdout",
          "text": [
            "7\n",
            "9\n",
            "11\n",
            "13\n",
            "15\n",
            "17\n",
            "19\n",
            "21\n",
            "23\n",
            "25\n",
            "27\n",
            "29\n",
            "31\n",
            "33\n",
            "35\n",
            "37\n",
            "39\n",
            "41\n",
            "43\n",
            "45\n",
            "47\n",
            "49\n",
            "51\n",
            "53\n",
            "55\n",
            "57\n",
            "59\n",
            "61\n",
            "63\n",
            "65\n",
            "67\n",
            "69\n",
            "71\n",
            "73\n",
            "75\n",
            "77\n",
            "79\n",
            "81\n",
            "83\n",
            "85\n",
            "87\n",
            "89\n",
            "91\n",
            "93\n",
            "95\n",
            "97\n"
          ]
        }
      ]
    },
    {
      "cell_type": "code",
      "source": [
        "for i in range ( 1,11):\n",
        "  print(i)\n",
        "  if i == 6:\n",
        "    print(\"my iterator is 6\")\n",
        "    #break\n",
        "    continue"
      ],
      "metadata": {
        "colab": {
          "base_uri": "https://localhost:8080/"
        },
        "id": "wuI6QmM7ekcm",
        "outputId": "52d5e4e9-b2c6-428d-9354-0f91293f2c78"
      },
      "execution_count": null,
      "outputs": [
        {
          "output_type": "stream",
          "name": "stdout",
          "text": [
            "1\n",
            "2\n",
            "3\n",
            "4\n",
            "5\n",
            "6\n",
            "my iterator is 6\n",
            "7\n",
            "8\n",
            "9\n",
            "10\n"
          ]
        }
      ]
    },
    {
      "cell_type": "code",
      "source": [
        "if(bn>100):\n",
        "  print(\"more than 100\")\n",
        "elif(bn==100):\n",
        "  print(\"equal to 100\")\n",
        "else:\n",
        "  print(\"condition not sattisfied\" )\n"
      ],
      "metadata": {
        "colab": {
          "base_uri": "https://localhost:8080/"
        },
        "id": "GVFYKWNUC1uy",
        "outputId": "5525ae69-f8b9-44c7-880a-d612a6bed5a2"
      },
      "execution_count": null,
      "outputs": [
        {
          "output_type": "stream",
          "name": "stdout",
          "text": [
            "more than 100\n"
          ]
        }
      ]
    },
    {
      "cell_type": "markdown",
      "source": [
        "type conversion\n"
      ],
      "metadata": {
        "id": "iNLumrkIE-wy"
      }
    },
    {
      "cell_type": "code",
      "source": [
        "a=2\n",
        "b=3.5\n",
        "c=a+b\n",
        "print(\"datatype of a:\",type(a))\n",
        "print(\"datatype of b:\",type(b))\n",
        "print(\"value of c:\",c)\n",
        "print(\"datatype of c:\",type(c))"
      ],
      "metadata": {
        "colab": {
          "base_uri": "https://localhost:8080/"
        },
        "id": "YT1VFOmYFCgR",
        "outputId": "978d41b8-526c-4e6d-ee4f-a6eb7989b21f"
      },
      "execution_count": null,
      "outputs": [
        {
          "output_type": "stream",
          "name": "stdout",
          "text": [
            "datatype of a: <class 'int'>\n",
            "datatype of b: <class 'float'>\n",
            "value of c: 5.5\n",
            "datatype of c: <class 'float'>\n"
          ]
        }
      ]
    },
    {
      "cell_type": "code",
      "source": [
        "num_int = 123\n",
        "num_flo = 1.23\n",
        "\n",
        "num_new = num_int + num_flo\n",
        "\n",
        "print(\"datatype of num_int:\",type(num_int))\n",
        "print(\"datatype of num_flo:\",type(num_flo))\n",
        "\n",
        "print(\"Value of num_new:\",num_new)\n",
        "print(\"datatype of num_new:\",type(num_new))"
      ],
      "metadata": {
        "id": "ScH-u45WFq_R",
        "outputId": "86632da5-ef99-40c2-c68c-47705d403f6c",
        "colab": {
          "base_uri": "https://localhost:8080/"
        }
      },
      "execution_count": null,
      "outputs": [
        {
          "output_type": "stream",
          "name": "stdout",
          "text": [
            "datatype of num_int: <class 'int'>\n",
            "datatype of num_flo: <class 'float'>\n",
            "Value of num_new: 124.23\n",
            "datatype of num_new: <class 'float'>\n"
          ]
        }
      ]
    },
    {
      "cell_type": "markdown",
      "source": [
        "explicit conversion"
      ],
      "metadata": {
        "id": "fGgIm_5nkrPU"
      }
    },
    {
      "cell_type": "code",
      "source": [
        "a=10\n",
        "print(\"a\",a)\n",
        "b=float(a)\n",
        "print(\"b\",b)"
      ],
      "metadata": {
        "colab": {
          "base_uri": "https://localhost:8080/"
        },
        "id": "-INPB8Fvjszg",
        "outputId": "e91d3bd2-3b30-4988-a66d-f942d2b77718"
      },
      "execution_count": null,
      "outputs": [
        {
          "output_type": "stream",
          "name": "stdout",
          "text": [
            "a 10\n",
            "b 10.0\n"
          ]
        }
      ]
    },
    {
      "cell_type": "code",
      "source": [
        "gravity=9.81\n",
        "print(int(gravity))"
      ],
      "metadata": {
        "colab": {
          "base_uri": "https://localhost:8080/"
        },
        "id": "Pqu_BXl_k6ua",
        "outputId": "cd7c5b5e-1e23-4cec-b5ed-a57b05c19e2c"
      },
      "execution_count": null,
      "outputs": [
        {
          "output_type": "stream",
          "name": "stdout",
          "text": [
            "9\n"
          ]
        }
      ]
    },
    {
      "cell_type": "code",
      "source": [
        "a=10\n",
        "b=\"456\" # b is a string\n",
        "print(\"datatype of a:\",type(a))\n",
        "print(\"datatype of b before type casting:\",type(b))\n",
        "b=int(b)\n",
        "print(\"datatype of b after type casting:\",type(b))\n",
        "c=a+b\n",
        "print(\"c\",c)\n",
        "print(\"datatype of c:\",type(c))\n",
        "\n",
        "\n"
      ],
      "metadata": {
        "colab": {
          "base_uri": "https://localhost:8080/"
        },
        "id": "6X9uJ1qrlEY9",
        "outputId": "edbba07d-a1a6-45c1-f25b-8a5648428bd0"
      },
      "execution_count": null,
      "outputs": [
        {
          "output_type": "stream",
          "name": "stdout",
          "text": [
            "datatype of a: <class 'int'>\n",
            "datatype of b before type casting: <class 'str'>\n",
            "datatype of b after type casting: <class 'int'>\n",
            "c 466\n",
            "datatype of c: <class 'int'>\n"
          ]
        }
      ]
    },
    {
      "cell_type": "code",
      "source": [
        "int(33.7)"
      ],
      "metadata": {
        "colab": {
          "base_uri": "https://localhost:8080/"
        },
        "id": "XoC1mzlvncsL",
        "outputId": "babd37f3-9c7e-4957-fdfc-be29a39af50c"
      },
      "execution_count": null,
      "outputs": [
        {
          "output_type": "execute_result",
          "data": {
            "text/plain": [
              "33"
            ]
          },
          "metadata": {},
          "execution_count": 14
        }
      ]
    },
    {
      "cell_type": "code",
      "source": [
        "int(-33.4)"
      ],
      "metadata": {
        "colab": {
          "base_uri": "https://localhost:8080/"
        },
        "id": "6J8b60v2nfor",
        "outputId": "6a90f4ef-6708-4696-cfb1-6c8446ebceec"
      },
      "execution_count": null,
      "outputs": [
        {
          "output_type": "execute_result",
          "data": {
            "text/plain": [
              "-33"
            ]
          },
          "metadata": {},
          "execution_count": 15
        }
      ]
    },
    {
      "cell_type": "code",
      "source": [
        "a=10\n",
        "print(a)\n",
        "a=str(a)\n",
        "print(a)\n"
      ],
      "metadata": {
        "colab": {
          "base_uri": "https://localhost:8080/"
        },
        "id": "caoJDR1vnrqY",
        "outputId": "2da8fccc-7d33-4a88-a65f-46b42175ee15"
      },
      "execution_count": null,
      "outputs": [
        {
          "output_type": "stream",
          "name": "stdout",
          "text": [
            "10\n",
            "10\n"
          ]
        }
      ]
    },
    {
      "cell_type": "markdown",
      "source": [
        "string to list"
      ],
      "metadata": {
        "id": "T9bzTOW-pU1O"
      }
    },
    {
      "cell_type": "code",
      "source": [
        "first_name = 'Milaan'\n",
        "print(first_name)               # 'Milaan'\n",
        "first_name_to_list = list(first_name)\n",
        "print(first_name_to_list)            # ['M', 'i', 'l', 'a', 'a', 'n']"
      ],
      "metadata": {
        "colab": {
          "base_uri": "https://localhost:8080/"
        },
        "id": "1TGQvHsromNQ",
        "outputId": "12d3ed26-885f-41c1-c812-2b563d186793"
      },
      "execution_count": null,
      "outputs": [
        {
          "output_type": "stream",
          "name": "stdout",
          "text": [
            "Milaan\n",
            "['M', 'i', 'l', 'a', 'a', 'n']\n"
          ]
        }
      ]
    },
    {
      "cell_type": "code",
      "source": [
        "a='kaushik'\n",
        "print(a)\n",
        "b=list(a)\n",
        "print(b)"
      ],
      "metadata": {
        "colab": {
          "base_uri": "https://localhost:8080/"
        },
        "id": "PrdLNqAYo_oI",
        "outputId": "fc2da73d-13b0-4676-82d1-9b778cbfdfc2"
      },
      "execution_count": null,
      "outputs": [
        {
          "output_type": "stream",
          "name": "stdout",
          "text": [
            "kaushik\n",
            "['k', 'a', 'u', 's', 'h', 'i', 'k']\n"
          ]
        }
      ]
    },
    {
      "cell_type": "markdown",
      "source": [
        "List"
      ],
      "metadata": {
        "id": "3nyDU58txzaz"
      }
    },
    {
      "cell_type": "code",
      "source": [
        "a=[5,10,15,20,25,30,35,40,45]\n",
        "print(\"a[2]=\",a[2])\n",
        "print(\"a[0:3]=\",a[0:3])\n",
        "print(\"a[5:]=\",a[5:])\n",
        "print(\"a[-2]=\",a[-2])\n",
        "a[2]"
      ],
      "metadata": {
        "colab": {
          "base_uri": "https://localhost:8080/"
        },
        "id": "7JTEfpSnwXUJ",
        "outputId": "6d170fec-94ac-4a9b-de14-c26b25ef2934"
      },
      "execution_count": null,
      "outputs": [
        {
          "output_type": "stream",
          "name": "stdout",
          "text": [
            "a[2]= 15\n",
            "a[0:3]= [5, 10, 15]\n",
            "a[5:]= [30, 35, 40, 45]\n",
            "a[-2]= 40\n"
          ]
        },
        {
          "output_type": "execute_result",
          "data": {
            "text/plain": [
              "15"
            ]
          },
          "metadata": {},
          "execution_count": 1
        }
      ]
    },
    {
      "cell_type": "code",
      "source": [
        "x=(1 == True)\n",
        "y=(1 == False)\n",
        "a=True+6\n",
        "b=False+90\n",
        "print(\"x=\",x)\n",
        "print(\"y=\",y)\n",
        "print(\"a=\",a)\n",
        "print(\"b=\",b)\n",
        "\n"
      ],
      "metadata": {
        "colab": {
          "base_uri": "https://localhost:8080/"
        },
        "id": "7BZznTUlrOWF",
        "outputId": "1dbb2ea5-281a-491c-f375-1e9eeb4f3204"
      },
      "execution_count": null,
      "outputs": [
        {
          "output_type": "stream",
          "name": "stdout",
          "text": [
            "x= True\n",
            "y= False\n",
            "a= 7\n",
            "b= 90\n"
          ]
        }
      ]
    },
    {
      "cell_type": "code",
      "source": [
        "a=(\"banana\",\"apple\",\"strawberry\",\"mausami\") #tuple()\n",
        "b=[\"banana\",\"apple\",\"strawberry\",\"mausami\"] #list[]\n",
        "c={\"banana\",\"apple\",\"strawberry\",\"mausami\"} #set{}\n",
        "d={\"1\":\"banana\",\"2\":\"apple\",\"3\":\"strawberry\",\"4\":\"mausami\"} # dictionary {\"Key\":\"Value\"}\n",
        "print(a)\n",
        "print(b)\n",
        "print(c)\n",
        "print(d)"
      ],
      "metadata": {
        "colab": {
          "base_uri": "https://localhost:8080/"
        },
        "id": "9rW0mk_CtGRj",
        "outputId": "b3a39b85-fe94-4fda-b311-47f95938dec9"
      },
      "execution_count": null,
      "outputs": [
        {
          "output_type": "stream",
          "name": "stdout",
          "text": [
            "('banana', 'apple', 'strawberry', 'mausami')\n",
            "['banana', 'apple', 'strawberry', 'mausami']\n",
            "{'mausami', 'strawberry', 'apple', 'banana'}\n",
            "{'1': 'banana', '2': 'apple', '3': 'strawberry', '4': 'mausami'}\n"
          ]
        }
      ]
    },
    {
      "cell_type": "code",
      "source": [
        "for i in range(0,3):\n",
        "  for j in range(len(dict( value))):\n",
        "    print (b[i])"
      ],
      "metadata": {
        "colab": {
          "base_uri": "https://localhost:8080/",
          "height": 176
        },
        "id": "OcjyOBkWwtvs",
        "outputId": "893da8fd-7e59-44a5-9748-e237071430df"
      },
      "execution_count": null,
      "outputs": [
        {
          "output_type": "error",
          "ename": "NameError",
          "evalue": "name 'value' is not defined",
          "traceback": [
            "\u001b[0;31m---------------------------------------------------------------------------\u001b[0m",
            "\u001b[0;31mNameError\u001b[0m                                 Traceback (most recent call last)",
            "\u001b[0;32m<ipython-input-20-a4ca14c470e9>\u001b[0m in \u001b[0;36m<cell line: 1>\u001b[0;34m()\u001b[0m\n\u001b[1;32m      1\u001b[0m \u001b[0;32mfor\u001b[0m \u001b[0mi\u001b[0m \u001b[0;32min\u001b[0m \u001b[0mrange\u001b[0m\u001b[0;34m(\u001b[0m\u001b[0;36m0\u001b[0m\u001b[0;34m,\u001b[0m\u001b[0;36m3\u001b[0m\u001b[0;34m)\u001b[0m\u001b[0;34m:\u001b[0m\u001b[0;34m\u001b[0m\u001b[0;34m\u001b[0m\u001b[0m\n\u001b[0;32m----> 2\u001b[0;31m   \u001b[0;32mfor\u001b[0m \u001b[0mj\u001b[0m \u001b[0;32min\u001b[0m \u001b[0mrange\u001b[0m\u001b[0;34m(\u001b[0m\u001b[0mlen\u001b[0m\u001b[0;34m(\u001b[0m\u001b[0mdict\u001b[0m\u001b[0;34m(\u001b[0m \u001b[0mvalue\u001b[0m\u001b[0;34m)\u001b[0m\u001b[0;34m)\u001b[0m\u001b[0;34m)\u001b[0m\u001b[0;34m:\u001b[0m\u001b[0;34m\u001b[0m\u001b[0;34m\u001b[0m\u001b[0m\n\u001b[0m\u001b[1;32m      3\u001b[0m     \u001b[0mprint\u001b[0m \u001b[0;34m(\u001b[0m\u001b[0mb\u001b[0m\u001b[0;34m[\u001b[0m\u001b[0mi\u001b[0m\u001b[0;34m]\u001b[0m\u001b[0;34m)\u001b[0m\u001b[0;34m\u001b[0m\u001b[0;34m\u001b[0m\u001b[0m\n",
            "\u001b[0;31mNameError\u001b[0m: name 'value' is not defined"
          ]
        }
      ]
    },
    {
      "cell_type": "code",
      "source": [
        "for i in range(0,3):\n",
        "  for j in range (len(dict(value))):\n",
        "    print(b[i])"
      ],
      "metadata": {
        "id": "U4FRwSz8x22m",
        "colab": {
          "base_uri": "https://localhost:8080/",
          "height": 176
        },
        "outputId": "009d219c-42e9-44d8-f24b-ae4810d01a2d"
      },
      "execution_count": null,
      "outputs": [
        {
          "output_type": "error",
          "ename": "NameError",
          "evalue": "name 'value' is not defined",
          "traceback": [
            "\u001b[0;31m---------------------------------------------------------------------------\u001b[0m",
            "\u001b[0;31mNameError\u001b[0m                                 Traceback (most recent call last)",
            "\u001b[0;32m<ipython-input-1-233c39e2d6a1>\u001b[0m in \u001b[0;36m<cell line: 1>\u001b[0;34m()\u001b[0m\n\u001b[1;32m      1\u001b[0m \u001b[0;32mfor\u001b[0m \u001b[0mi\u001b[0m \u001b[0;32min\u001b[0m \u001b[0mrange\u001b[0m\u001b[0;34m(\u001b[0m\u001b[0;36m0\u001b[0m\u001b[0;34m,\u001b[0m\u001b[0;36m3\u001b[0m\u001b[0;34m)\u001b[0m\u001b[0;34m:\u001b[0m\u001b[0;34m\u001b[0m\u001b[0;34m\u001b[0m\u001b[0m\n\u001b[0;32m----> 2\u001b[0;31m   \u001b[0;32mfor\u001b[0m \u001b[0mj\u001b[0m \u001b[0;32min\u001b[0m \u001b[0mrange\u001b[0m \u001b[0;34m(\u001b[0m\u001b[0mlen\u001b[0m\u001b[0;34m(\u001b[0m\u001b[0mdict\u001b[0m\u001b[0;34m(\u001b[0m\u001b[0mvalue\u001b[0m\u001b[0;34m)\u001b[0m\u001b[0;34m)\u001b[0m\u001b[0;34m)\u001b[0m\u001b[0;34m:\u001b[0m\u001b[0;34m\u001b[0m\u001b[0;34m\u001b[0m\u001b[0m\n\u001b[0m\u001b[1;32m      3\u001b[0m     \u001b[0mprint\u001b[0m\u001b[0;34m(\u001b[0m\u001b[0mb\u001b[0m\u001b[0;34m[\u001b[0m\u001b[0mi\u001b[0m\u001b[0;34m]\u001b[0m\u001b[0;34m)\u001b[0m\u001b[0;34m\u001b[0m\u001b[0;34m\u001b[0m\u001b[0m\n",
            "\u001b[0;31mNameError\u001b[0m: name 'value' is not defined"
          ]
        }
      ]
    },
    {
      "cell_type": "code",
      "source": [
        "t=(6,'program',1+3j)\n",
        "t[0:4]"
      ],
      "metadata": {
        "colab": {
          "base_uri": "https://localhost:8080/"
        },
        "id": "QfjF2ap3Vf-v",
        "outputId": "e32a61fa-886f-4fd6-d0fc-fccb80f7753f"
      },
      "execution_count": null,
      "outputs": [
        {
          "output_type": "execute_result",
          "data": {
            "text/plain": [
              "(6, 'program', (1+3j))"
            ]
          },
          "metadata": {},
          "execution_count": 2
        }
      ]
    },
    {
      "cell_type": "code",
      "source": [
        "a=[98,78,1,22,24]\n",
        "print(\"list of a=\",a)"
      ],
      "metadata": {
        "colab": {
          "base_uri": "https://localhost:8080/"
        },
        "id": "Pc6k-DCCVtyq",
        "outputId": "768d23c2-f99c-4008-c862-6fa3ae1d8614"
      },
      "execution_count": 16,
      "outputs": [
        {
          "output_type": "stream",
          "name": "stdout",
          "text": [
            "list of a= [98, 78, 1, 22, 24]\n"
          ]
        }
      ]
    },
    {
      "cell_type": "code",
      "source": [
        "a=set(a)"
      ],
      "metadata": {
        "id": "HCluId8OWJ2b"
      },
      "execution_count": 17,
      "outputs": []
    },
    {
      "cell_type": "code",
      "source": [
        "a[1]"
      ],
      "metadata": {
        "colab": {
          "base_uri": "https://localhost:8080/",
          "height": 141
        },
        "id": "BdOUDPzEWU9r",
        "outputId": "75dd2e00-e121-4cf4-f8a4-32b9cafa78f4"
      },
      "execution_count": 18,
      "outputs": [
        {
          "output_type": "error",
          "ename": "TypeError",
          "evalue": "'set' object is not subscriptable",
          "traceback": [
            "\u001b[0;31m---------------------------------------------------------------------------\u001b[0m",
            "\u001b[0;31mTypeError\u001b[0m                                 Traceback (most recent call last)",
            "\u001b[0;32m<ipython-input-18-8bc71255a22e>\u001b[0m in \u001b[0;36m<cell line: 1>\u001b[0;34m()\u001b[0m\n\u001b[0;32m----> 1\u001b[0;31m \u001b[0ma\u001b[0m\u001b[0;34m[\u001b[0m\u001b[0;36m1\u001b[0m\u001b[0;34m]\u001b[0m\u001b[0;34m\u001b[0m\u001b[0;34m\u001b[0m\u001b[0m\n\u001b[0m",
            "\u001b[0;31mTypeError\u001b[0m: 'set' object is not subscriptable"
          ]
        }
      ]
    },
    {
      "cell_type": "code",
      "source": [
        "a = list(a)\n",
        "a[1]"
      ],
      "metadata": {
        "colab": {
          "base_uri": "https://localhost:8080/"
        },
        "id": "inu_Sj_O5Yjv",
        "outputId": "a0aaa8c5-aa98-423a-a983-8a273bf6637d"
      },
      "execution_count": 20,
      "outputs": [
        {
          "output_type": "execute_result",
          "data": {
            "text/plain": [
              "98"
            ]
          },
          "metadata": {},
          "execution_count": 20
        }
      ]
    },
    {
      "cell_type": "code",
      "source": [
        "a = tuple(a)\n",
        "a[4]"
      ],
      "metadata": {
        "colab": {
          "base_uri": "https://localhost:8080/"
        },
        "id": "1BqPA7wj6d6f",
        "outputId": "80b64df6-41f1-4e56-c24a-f8dcd05393bb"
      },
      "execution_count": 22,
      "outputs": [
        {
          "output_type": "execute_result",
          "data": {
            "text/plain": [
              "24"
            ]
          },
          "metadata": {},
          "execution_count": 22
        }
      ]
    },
    {
      "cell_type": "code",
      "source": [
        "num_str=int(\"123\")\n",
        "num_str"
      ],
      "metadata": {
        "colab": {
          "base_uri": "https://localhost:8080/"
        },
        "id": "isLdGam66ru3",
        "outputId": "87f8df80-e260-4be0-8dfa-a9ce40be0800"
      },
      "execution_count": 23,
      "outputs": [
        {
          "output_type": "execute_result",
          "data": {
            "text/plain": [
              "123"
            ]
          },
          "metadata": {},
          "execution_count": 23
        }
      ]
    },
    {
      "cell_type": "code",
      "source": [
        "a,b,c= 90,\"kaushik\", \"patna\"\n",
        "a"
      ],
      "metadata": {
        "colab": {
          "base_uri": "https://localhost:8080/"
        },
        "id": "AlDIIyXIjKF3",
        "outputId": "5270494e-5ad5-4a63-d992-eb16e4ef51b1"
      },
      "execution_count": null,
      "outputs": [
        {
          "output_type": "execute_result",
          "data": {
            "text/plain": [
              "90"
            ]
          },
          "metadata": {},
          "execution_count": 18
        }
      ]
    },
    {
      "cell_type": "code",
      "source": [
        "c,b,a='chd','rahul',89\n",
        "b"
      ],
      "metadata": {
        "colab": {
          "base_uri": "https://localhost:8080/",
          "height": 36
        },
        "id": "jegJ7L8BjgB2",
        "outputId": "2f4b4811-6df5-41bf-84be-93c02a504e0f"
      },
      "execution_count": null,
      "outputs": [
        {
          "output_type": "execute_result",
          "data": {
            "text/plain": [
              "'rahul'"
            ],
            "application/vnd.google.colaboratory.intrinsic+json": {
              "type": "string"
            }
          },
          "metadata": {},
          "execution_count": 19
        }
      ]
    },
    {
      "cell_type": "code",
      "source": [
        "x=y=z='karan'\n",
        "z"
      ],
      "metadata": {
        "colab": {
          "base_uri": "https://localhost:8080/",
          "height": 36
        },
        "id": "frKqBrMGj3RB",
        "outputId": "789f53bb-32ef-4d97-fc85-edc736f3022f"
      },
      "execution_count": null,
      "outputs": [
        {
          "output_type": "execute_result",
          "data": {
            "text/plain": [
              "'karan'"
            ],
            "application/vnd.google.colaboratory.intrinsic+json": {
              "type": "string"
            }
          },
          "metadata": {},
          "execution_count": 21
        }
      ]
    }
  ]
}